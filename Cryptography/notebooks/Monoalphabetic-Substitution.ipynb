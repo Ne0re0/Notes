{
 "cells": [
  {
   "cell_type": "code",
   "execution_count": 1,
   "metadata": {},
   "outputs": [],
   "source": [
    "import numpy as np"
   ]
  },
  {
   "cell_type": "markdown",
   "metadata": {},
   "source": [
    "# <center> TP1 - Chiffrement par substitution monoalphabétique </center>\n",
    "<center> 2023/2024 - L. Naert, T. Ferragut, T. Godin </center>\n",
    "\n",
    "Le chiffrement par substitution monoalphabétique consiste à remplacer chaque symbole d'un message en clair par un autre symbole (généralement du même alphabet) pour constituer le message chiffré. \n",
    "\n",
    "Dans ce TP, nous étudierons 2 types de chiffrement par substitution monoalphabétique : le chiffrement par décalage et le chiffrement affine.\n",
    "\n",
    "Pour chaque type de chiffrement, nous développerons des fonctions pour:\n",
    "1. chiffrer un message en clair à l'aide d'une clef\n",
    "2. déchiffrer un message (en connaissant la clef)\n",
    "3. décrypter un message (ne connaissant pas la clef) en faisant appel à l'analyse de fréquence\n",
    "\n",
    "\n",
    "Par convention, nous appelerons :\n",
    "- $k$ : la clef\n",
    "- $E_k$ : la fonction de chiffrement\n",
    "- $D_k$ : la fonction de déchiffrement\n",
    "- $m$ : le message en clair\n",
    "- $m_i$ : la lettre de rang $i$ sur message en clair\n",
    "- $c$ : le message chiffré\n",
    "- $c_i$ : la lettre de rang $i$ sur message en clair\n",
    "\n"
   ]
  },
  {
   "cell_type": "markdown",
   "metadata": {},
   "source": [
    "## 1 - Chiffrement par décalage, dit \"chiffrement de César\"\n",
    "\n",
    "César, pour assurer la confidentialité de sa correspondance, avaient l'habitude de remplacer chaque lettre de ses messages par la lettre qui était située 3 rangs après dans l'alphabet ('a' devenait ainsi 'd', 'b' devenait 'e', etc.). \n",
    "\n",
    "Il s'agit d'un cas particulier de __chiffrement par décalage__ qui consiste à décaler, dans un sens ou dans l'autre, les lettres de l'alphabet d'un nombre constant de position. Ce nombre constitue la clef du chiffrement par décalage.\n",
    "\n",
    "Il s'agit évidemment d'un décalage circulaire : 'z' décalé de 3 positions devient ainsi 'c'. Plus généralement, cela revient à travailler dans l'ensemble $\\mathbb{Z}/26\\mathbb{Z}$ en considérant chaque lettre comme un entier entre $0$ (pour 'a') et $25$ (pour 'z').\n",
    "\n",
    "Ainsi, en appelant $k$ la clef de décalage, la fonction $E_k$ de chiffrement d'une lettre est : \n",
    "\n",
    "\\begin{align*}\n",
    "  E_k \\colon \\mathbb{Z}/26\\mathbb{Z} &\\to \\mathbb{Z}/26\\mathbb{Z}\\\\\n",
    "  m_i &\\mapsto c_i = m_i + k\n",
    "\\end{align*}"
   ]
  },
  {
   "cell_type": "code",
   "execution_count": 2,
   "metadata": {},
   "outputs": [
    {
     "name": "stdout",
     "output_type": "stream",
     "text": [
      "Lettre -> entier : w -> 22\n",
      "Entier -> Lettre : 22 -> w\n"
     ]
    }
   ],
   "source": [
    "# Quelques fonctions utiles (ou pas)\n",
    "def lettreToEntier(lettre, alphabet = \"abcdefghijklmnopqrstuvwxyz\"):\n",
    "    return alphabet.find(lettre)\n",
    "def entierToLettre(a, alphabet = \"abcdefghijklmnopqrstuvwxyz\"):\n",
    "    return alphabet[a]\n",
    "\n",
    "print(\"Lettre -> entier : w ->\", lettreToEntier('w'))\n",
    "print(\"Entier -> Lettre : 22 ->\", entierToLettre(22))"
   ]
  },
  {
   "cell_type": "markdown",
   "metadata": {},
   "source": [
    "### 1 - a) Chiffrement/Déchiffrement\n",
    "\n",
    "\n",
    "> __Question 1 (chiffrement)__ : Définir une fonction `chiffrementDecalage(msgClair, clef, alphabet)` qui étant donné un message en clair `msgClair`, un certain décalage `clef` et un alphabet `alphabet` (par défaut, l'alphabet français) renvoie le message chiffré correspondant."
   ]
  },
  {
   "cell_type": "code",
   "execution_count": null,
   "metadata": {},
   "outputs": [],
   "source": []
  },
  {
   "cell_type": "code",
   "execution_count": 3,
   "metadata": {},
   "outputs": [
    {
     "name": "stdout",
     "output_type": "stream",
     "text": [
      "chiffrementDecalage : OK\n"
     ]
    }
   ],
   "source": [
    "def chiffrementDecalage(m, clef, alphabet=\"abcdefghijklmnopqrstuvwxyz\"):\n",
    "    c = \"\"\n",
    "    for char in m :\n",
    "        ind = lettreToEntier(char)\n",
    "        ind = ind + clef\n",
    "        c += entierToLettre(ind)\n",
    "    return c\n",
    "\n",
    "try:\n",
    "    assert chiffrementDecalage(\"messageenclair\",3) == \"phvvdjhhqfodlu\"\n",
    "    assert chiffrementDecalage(\"venividivici\",-3) == \"sbkfsfafsfzf\"\n",
    "    print(\"chiffrementDecalage : OK\")\n",
    "except:\n",
    "    print(\"chiffrementDecalage : ERREUR\")"
   ]
  },
  {
   "cell_type": "markdown",
   "metadata": {},
   "source": [
    "Partant du message chiffré et connaissant la clef de chiffrement (la valeur du décalage), il est aisé de déchiffrer le message en opérant le décalage inverse. Ainsi : \n",
    "\n",
    "\\begin{align*}\n",
    "  D_k \\colon \\mathbb{Z}/26\\mathbb{Z} &\\to \\mathbb{Z}/26\\mathbb{Z}\\\\\n",
    "  c_i &\\mapsto m_i = c_i - k\n",
    "\\end{align*}\n",
    "\n",
    "\n",
    "> __Question 2 (déchiffrement)__ : Définir une fonction `dechiffrementDecalage(msgChiffre, clef, alphabet)` qui étant donné un message chiffré `msgChiffre`, la clef qui a servi à construire ce message chiffré `clef` et un alphabet `alphabet` (par défaut, l'alphabet français) renvoie le message en clair correspondant."
   ]
  },
  {
   "cell_type": "code",
   "execution_count": 4,
   "metadata": {},
   "outputs": [
    {
     "name": "stdout",
     "output_type": "stream",
     "text": [
      "dechiffrementDecalage : OK\n"
     ]
    }
   ],
   "source": [
    "def dechiffrementDecalage(c, clef, alphabet=\"abcdefghijklmnopqrstuvwxyz\"):\n",
    "    m = \"\"\n",
    "    for char in c : \n",
    "        ind = lettreToEntier(char)\n",
    "        ind -= clef %26\n",
    "        m += entierToLettre(ind)\n",
    "    return m\n",
    "\n",
    "try:\n",
    "    assert dechiffrementDecalage(\"phvvdjhhqfodlu\",3) == \"messageenclair\"\n",
    "    assert dechiffrementDecalage(\"sbkfsfafsfzf\",-3) == \"venividivici\"\n",
    "    print(\"dechiffrementDecalage : OK\")\n",
    "except:\n",
    "    print(\"dechiffrementDecalage : ERREUR\")\n",
    "    \n",
    "  "
   ]
  },
  {
   "cell_type": "markdown",
   "metadata": {},
   "source": [
    "### 1 - b) Attaques : Force brute et analyse de fréquence\n",
    "\n",
    "Mais que faire si nous tombons sur un message chiffré par décalage mais que nous ne connaissons pas la clef ? \n",
    "\n",
    "La grande faille du chiffrement par décalage est le faible nombre de clefs possibles : $26$ en français (et même $25$ car un décalage de 0 n'en est pas un). Une __attaque par force brute__, en testant toutes les clefs possibles est donc très efficace sur ce genre de chiffrement\n",
    "\n",
    "> __Question 3 (attaque par force brute)__ : Définir une fonction `attaqueForceBruteDec(msgChiffre, alphabet)` qui étant donné un message chiffré `msgChiffre`, et un alphabet `alphabet` (par défaut, l'alphabet français) affiche tous les messages en clair possibles avec la clef correspondante."
   ]
  },
  {
   "cell_type": "code",
   "execution_count": 5,
   "metadata": {},
   "outputs": [
    {
     "data": {
      "text/plain": [
       "['phvvdjhhqfodlu',\n",
       " 'oguuciggpenckt',\n",
       " 'nfttbhffodmbjs',\n",
       " 'messageenclair',\n",
       " 'ldrrzfddmbkzhq',\n",
       " 'kcqqyecclajygp',\n",
       " 'jbppxdbbkzixfo',\n",
       " 'iaoowcaajyhwen',\n",
       " 'hznnvbzzixgvdm',\n",
       " 'gymmuayyhwfucl',\n",
       " 'fxlltzxxgvetbk',\n",
       " 'ewkksywwfudsaj',\n",
       " 'dvjjrxvvetcrzi',\n",
       " 'cuiiqwuudsbqyh',\n",
       " 'bthhpvttcrapxg',\n",
       " 'asggoussbqzowf',\n",
       " 'zrffntrrapynve',\n",
       " 'yqeemsqqzoxmud',\n",
       " 'xpddlrppynwltc',\n",
       " 'wocckqooxmvksb',\n",
       " 'vnbbjpnnwlujra',\n",
       " 'umaaiommvktiqz',\n",
       " 'tlzzhnllujshpy',\n",
       " 'skyygmkktirgox',\n",
       " 'rjxxfljjshqfnw',\n",
       " 'qiwwekiirgpemv']"
      ]
     },
     "execution_count": 5,
     "metadata": {},
     "output_type": "execute_result"
    }
   ],
   "source": [
    "\n",
    "def attaqueForceBruteDec(msgChiffre, alphabet=\"abcdefghijklmnopqrstuvwxyz\"):\n",
    "    brute = []\n",
    "    for k in range(26) : \n",
    "        brute.append(dechiffrementDecalage(msgChiffre,k))\n",
    "    return brute\n",
    "\n",
    "attaqueForceBruteDec(\"phvvdjhhqfodlu\")"
   ]
  },
  {
   "cell_type": "markdown",
   "metadata": {},
   "source": [
    "Même si l'attaque par force brute fonctionne très bien dans le cas du chiffrement par décalage du fait du très petit nombre de clefs disponibles, l'attaque la plus courante dans le cas des chiffrements par substitution monoalphabétique est l'__analyse de fréquence__. Connaissant la langue dans laquelle a été écrit le message en clair initial et la fréquence d'apparition de chaque lettre dans cette langue, il est possible de retrouver, en calculant la fréquence de chaque lettre dans le message chiffré, la correspondance entre les lettres du message chiffré et celles du message en clair.\n",
    "\n",
    "En fait, dans le cas d'un chiffrement par décalage, la connaissance de la correspondance entre une unique lettre du chiffré et une lettre de l'alphabet d'origine suffit à calculer le pas de décalage (la clef) et donc à décrypter le message.\n",
    "\n",
    "Il s'agit en effet de trouver la valeur de $k$ dans l'équation : $x_c - k = x_m \\mod 26$ avec $x_c$ la lettre du message chiffré correspondant à la lettre $x_m$ de l'alphabet d'origine.\n",
    "\n",
    "L'analyse de fréquence nous permet de tester directement des candidats pertinents pour $x_m$ et $x_c$. En effet, il est probable pour que la lettre la plus fréquente dans le message chiffré serve à coder la lettre la plus fréquente dans la langue étudiée. Par exemple, en français, la lettre la plus utilisée est le \"e\". Si, dans le message chiffré, la lettre la plus utilisée est le \"v\", il y a de grandes chances pour que \"v\" serve à coder \"e\". Cette méthode sera d'autant plus efficace que le message à déchiffrer est long.\n",
    "\n",
    "> __Question 3 (attaque par analyse de fréquence)__ : \n",
    "- Définir une fonction `frequenceLettre(lettre, txt)` qui calcule la fréquence en pourcentages du caractère `lettre` dans la chaine de caractere `txt`.\n",
    "- Définir une fonction `frequenceTouteLettre(txt, alphabet)` qui calcule la fréquence en pourcentages de chaque lettre de `alphabet` dans `txt`. Cette fonction renvoie un dictionnaire ayant pour clef chaque lettre et pour valeur la fréquence correspondante.\n",
    "- Définir une fonction `triFreq(freqs)` qui, étant donné un dictionnaire de fréquence `freqs`, les éléments triées par fréquence décroissante. \n",
    "- Définir une fonction `getNiemelettre(freqs, n)` qui renvoie la n-ième lettre la plus fréquente (par exemple, si n = 1, la fonction renverra la lettre la plus frequente) d'après `freqs`.\n",
    "- Définir une fonction `calculeDecalage(lettre1, lettre2, alphabet)` qui renvoie la valeur du décalage entre les deux lettres en paramètre étant donné un alphabet. Ce décalage sera exprimé dans $\\mathbb{Z}/n\\mathbb{Z}$ avec $n$ la longueur de l'alphabet considéré.\n",
    "- Définir une fonction `attaqueFrequenceDec\n",
    "(msgChiffre, frequenceLangue, alphabet)` qui utilise les fonctions précédentes pour décrypter le message en paramètre en comparant la lettre la plus fréquente dans le message chiffré et dans la langue considérée. `frequenceLangue` est un dictionnaire des fréquences dans la langue du message (le dictionnaire des fréquences de chaque lettre en français `frequenceFrancais` vous est fourni).\n",
    "\n",
    "_Note_ : si le message n'est pas assez long ou pas assez représentatif de la langue considéré, une analyse de fréquence ne se basant que sur la lettre la plus fréquente risque de ne pas aboutir. Il peut dans ce cas être interessant de tester plusieurs possibilités (par exemple en calculant le décalage entre la deuxième lettre la plus fréquente dans le chiffré et la lettre la plus fréquente du français)."
   ]
  },
  {
   "cell_type": "code",
   "execution_count": 6,
   "metadata": {},
   "outputs": [
    {
     "name": "stdout",
     "output_type": "stream",
     "text": [
      "frequenceLettre : OK\n"
     ]
    }
   ],
   "source": [
    "def frequenceLettre(lettre, txt):\n",
    "    if (len(txt) == 0 ):\n",
    "        return 0\n",
    "    nb = 0\n",
    "    for char in txt : \n",
    "        if lettre == char : \n",
    "            nb += 1\n",
    "    return (nb/len(txt))*100\n",
    "\n",
    "chiffre =\"abhffbzzrfpbzzrqrfanvafnffvffheqrfrcnhyrfqrtrnagffvabhfiblbafcyhfqrpubfrfrgcyhfrybvtarrfdhrhkprarfgcnfnpnhfrqryncrefcvpnpvgrqrabgerihravqrabgertenaqrheprfgcneprdhrabhffbzzrfryrirfcnerhk\"\n",
    "\n",
    "try:\n",
    "    assert round(frequenceLettre('f',chiffre),2) == 15.68\n",
    "    assert round(frequenceLettre('a',chiffre),2) == 7.03\n",
    "    print(\"frequenceLettre : OK\")\n",
    "except:\n",
    "    print(\"frequenceLettre : ERREUR\")"
   ]
  },
  {
   "cell_type": "code",
   "execution_count": 7,
   "metadata": {},
   "outputs": [
    {
     "name": "stdout",
     "output_type": "stream",
     "text": [
      "Frequence de chaque lettre dans le chiffre :  {'a': 7.027027027027027, 'b': 6.486486486486487, 'h': 7.567567567567568, 'f': 15.675675675675677, 'z': 3.2432432432432434, 'r': 18.91891891891892, 'p': 4.324324324324325, 'q': 4.324324324324325, 'n': 6.486486486486487, 'v': 3.783783783783784, 'e': 4.324324324324325, 'c': 4.324324324324325, 'y': 3.2432432432432434, 't': 1.6216216216216217, 'g': 3.783783783783784, 'i': 1.6216216216216217, 'l': 0.5405405405405406, 'u': 0.5405405405405406, 'd': 1.0810810810810811, 'k': 1.0810810810810811}\n"
     ]
    }
   ],
   "source": [
    "def frequenceTouteLettre(txt, alphabet=\"abcdefghijklmnopqrstuvwxyz\"):\n",
    "    dico = {}\n",
    "    for char in txt : \n",
    "        if char in alphabet and char not in dico.keys() : \n",
    "            dico[char] = frequenceLettre(char,txt)\n",
    "    return dico\n",
    "            \n",
    "\n",
    "print(\"Frequence de chaque lettre dans le chiffre : \", frequenceTouteLettre(chiffre))"
   ]
  },
  {
   "cell_type": "code",
   "execution_count": 8,
   "metadata": {},
   "outputs": [
    {
     "name": "stdout",
     "output_type": "stream",
     "text": [
      "[('e', 17.39), ('a', 8.15), ('s', 8.14), ('i', 7.31), ('t', 7.22), ('n', 7.12), ('r', 6.64), ('u', 6.38), ('l', 5.69), ('o', 5.28), ('d', 3.73), ('c', 3.15), ('m', 2.87), ('p', 2.8), ('v', 1.64), ('q', 1.21), ('f', 1.12), ('b', 0.97), ('g', 0.97), ('h', 0.85), ('j', 0.45), ('x', 0.41), ('y', 0.28), ('z', 0.15), ('w', 0.03), ('k', 0.02)]\n",
      "s\n"
     ]
    }
   ],
   "source": [
    "def triFreq(freqs):\n",
    "    lst = []\n",
    "    for key in freqs.keys() : \n",
    "        lst.append((key,freqs[key]))\n",
    "    sort = sorted(lst, key=lambda x: x[1], reverse=True)\n",
    "    return sort\n",
    "\n",
    "def getNiemeLettre(freqs, n):\n",
    "    sort = triFreq(freqs)\n",
    "    return sort[n-1][0]\n",
    "\n",
    "\n",
    "# Frequence des lettres en français\n",
    "# Source : https://www.apprendre-en-ligne.net/crypto/stat/francais.html\n",
    "frequenceFrancais = {'a': 8.15, 'b': 0.97, 'c': 3.15, 'd': 3.73, 'e': 17.39, \n",
    "                     'f': 1.12, 'g': 0.97, 'h': 0.85, 'i': 7.31, 'j': 0.45, \n",
    "                     'k': 0.02, 'l': 5.69, 'm': 2.87, 'n': 7.12, 'o': 5.28, \n",
    "                     'p': 2.80, 'q': 1.21, 'r': 6.64, 's': 8.14, 't': 7.22, \n",
    "                     'u': 6.38, 'v': 1.64, 'w': 0.03, 'x': 0.41, 'y': 0.28, \n",
    "                     'z': 0.15}\n",
    "print(triFreq(frequenceFrancais))\n",
    "print(getNiemeLettre(frequenceFrancais,3))"
   ]
  },
  {
   "cell_type": "code",
   "execution_count": 9,
   "metadata": {},
   "outputs": [
    {
     "name": "stdout",
     "output_type": "stream",
     "text": [
      "getNiemeLettre : OK\n"
     ]
    }
   ],
   "source": [
    "try:\n",
    "    assert getNiemeLettre(frequenceTouteLettre(chiffre),1) == 'r'\n",
    "    assert getNiemeLettre(frequenceFrancais,1) == 'e'\n",
    "    assert getNiemeLettre(frequenceFrancais,2) == 'a'\n",
    "    assert getNiemeLettre(frequenceFrancais,3) == 's'\n",
    "    print(\"getNiemeLettre : OK\")\n",
    "except:\n",
    "    print(\"getNiemeLettre : ERREUR\")"
   ]
  },
  {
   "cell_type": "code",
   "execution_count": 10,
   "metadata": {},
   "outputs": [],
   "source": [
    "def calculDecalage(lettre1, lettre2, alphabet=\"abcdefghijklmnopqrstuvwxyz\"):\n",
    "    dec = (lettreToEntier(lettre2, alphabet) - lettreToEntier(lettre1, alphabet)) %26\n",
    "    return dec"
   ]
  },
  {
   "cell_type": "code",
   "execution_count": 11,
   "metadata": {},
   "outputs": [
    {
     "name": "stdout",
     "output_type": "stream",
     "text": [
      "calculDecalage : OK\n"
     ]
    }
   ],
   "source": [
    "try:\n",
    "    assert calculDecalage('a','d') == 3\n",
    "    assert calculDecalage('d','a') == 23\n",
    "    assert calculDecalage('z','c') == 3\n",
    "    assert calculDecalage('r','a') == 9\n",
    "    print(\"calculDecalage : OK\")\n",
    "except:\n",
    "    print(\"calculDecalage : ERREUR\")"
   ]
  },
  {
   "cell_type": "code",
   "execution_count": 12,
   "metadata": {},
   "outputs": [
    {
     "name": "stdout",
     "output_type": "stream",
     "text": [
      "13\n",
      "noussommescommedesnainsassissurdesepaulesdegeantssinousvoyonsplusdechosesetpluseloigneesqueuxcenestpasacausedelaperspicacitedenotrevuenidenotregrandeurcestparcequenoussommeselevespareux\n",
      "14\n",
      "horsdiciaulogisfaineantsaulogisestcequecestaujourdhuijourdefetecommentestcequevousnesavezpasquetantdesartisansvousnedevezpasvousmontrerunjourouvriersansavoirlesinsignesdevosprofessionsparletoiquelesttonmetier\n"
     ]
    }
   ],
   "source": [
    "def attaqueFrequenceDec(cypher, frequenceLangue = frequenceFrancais, alphabet=\"abcdefghijklmnopqrstuvwxyz\"):\n",
    "    freqs = frequenceTouteLettre(cypher)\n",
    "    sort = triFreq(freqs)\n",
    "    sort_lan = triFreq(frequenceLangue)\n",
    "    dec = calculDecalage(sort_lan[0][0],sort[0][0])\n",
    "    print(dec)\n",
    "    m = dechiffrementDecalage(cypher,dec, frequenceFrancais)\n",
    "    return m\n",
    "\n",
    "chiffre =\"abhffbzzrfpbzzrqrfanvafnffvffheqrfrcnhyrfqrtrnagffvabhfiblbafcyhfqrpubfrfrgcyhfrybvtarrfdhrhkprarfgcnfnpnhfrqryncrefcvpnpvgrqrabgerihravqrabgertenaqrheprfgcneprdhrabhffbzzrfryrirfcnerhk\"\n",
    "print(attaqueFrequenceDec(chiffre))\n",
    "chiffre2=\"vcfgrwqwoizcuwgtowbsobhgoizcuwgsghqseisqsghoixcifrviwxcifrstshsqcaasbhsghqseisjcigbsgojsndogeishobhrsgofhwgobgjcigbsrsjsndogjcigacbhfsfibxcifcijfwsfgobgojcwfzsgwbgwubsgrsjcgdfctsggwcbgdofzshcweiszsghhcbashwsf\"\n",
    "print(attaqueFrequenceDec(chiffre2))"
   ]
  },
  {
   "cell_type": "markdown",
   "metadata": {},
   "source": [
    "## 2 - Chiffrement Affine\n",
    "\n",
    "Le chiffrement affine est un autre type de chiffrement par substitution monoalphabétique. Ici, la clef de chiffrement $k$ est composée d'un couple d'entiers $(a,b)$ avec $a \\in (\\mathbb{Z}/n\\mathbb{Z})^*$ (l'ensemble des éléments inversibles de $\\mathbb{Z}/n\\mathbb{Z}$) et $b \\in \\mathbb{Z}/n\\mathbb{Z}$\n",
    "\n",
    "La fonction de chiffrement correspondante est : \n",
    "\n",
    "\\begin{align*}\n",
    "  E_k \\colon \\mathbb{Z}/26\\mathbb{Z} &\\to \\mathbb{Z}/26\\mathbb{Z}\\\\\n",
    "  m_i & \\mapsto c_i = am_i + b\n",
    "\\end{align*}\n",
    "\n",
    "Ainsi, si k = (3,4), la lettre codée 6 (donc 'g') sera chiffrée avec la lettre codée $(3*6+4)\\mod 26 = 22$ (donc 'w').\n",
    "\n",
    "### 2 - a) Chiffrement/Déchiffrement\n",
    "\n",
    "> __Question 4 (chiffrement)__ : Définir une fonction `chiffrementAffine(msgClair, a, b, alphabet)` qui étant donné un message en clair `msgClair`, une clef de chiffrement `clef`$=[a,b]$ et un alphabet `alphabet` (par défaut, l'alphabet français) renvoie le message chiffré correspondant."
   ]
  },
  {
   "cell_type": "code",
   "execution_count": 13,
   "metadata": {},
   "outputs": [
    {
     "data": {
      "text/plain": [
       "'oqggewqqrklecd'"
      ]
     },
     "execution_count": 13,
     "metadata": {},
     "output_type": "execute_result"
    }
   ],
   "source": [
    "def chiffrementAffine(msgClair, clef, alphabet = \"abcdefghijklmnopqrstuvwxyz\") :\n",
    "    c = \"\"\n",
    "    for char in msgClair : \n",
    "        c += entierToLettre(((clef[0]*lettreToEntier(char))+clef[1])%26)\n",
    "    return c\n",
    "\n",
    "\n",
    "chiffrementAffine(\"messageenclair\",[3,4])"
   ]
  },
  {
   "cell_type": "code",
   "execution_count": 14,
   "metadata": {},
   "outputs": [
    {
     "name": "stdout",
     "output_type": "stream",
     "text": [
      "chiffrementAffine : OK\n"
     ]
    }
   ],
   "source": [
    "try:\n",
    "    assert chiffrementAffine(\"messageenclair\",[3,4]) == \"oqggewqqrklecd\"\n",
    "    assert chiffrementAffine(\"messageenclair\",[23,6]) == \"wueegouutazgih\"\n",
    "    print(\"chiffrementAffine : OK\")\n",
    "except:\n",
    "    print(\"chiffrementAffine : ERREUR\")\n"
   ]
  },
  {
   "cell_type": "markdown",
   "metadata": {},
   "source": [
    "Partant du message chiffré et connaissant la clef de chiffrement (les valeurs de a et b), il est possible de déchiffrer le message.\n",
    "\n",
    "La fonction de déchiffrement peut s'écrire : \n",
    "\n",
    "\\begin{align*}\n",
    "  D_k \\colon \\mathbb{Z}/26\\mathbb{Z} &\\to \\mathbb{Z}/26\\mathbb{Z}\\\\\n",
    "  c_i &\\mapsto m_i = \\alpha c_i + \\beta\n",
    "\\end{align*}\n",
    "\n",
    "avec $\\alpha = a^{-1}$ et $\\beta = (-a^{-1}b) \\mod n$\n",
    "\n",
    "où $a^{-1}$ désigne l'inverse modulaire de $a$"
   ]
  },
  {
   "cell_type": "markdown",
   "metadata": {},
   "source": [
    "Avant de faire la fonction permettant de déchiffrer un message chiffré connaissant sa clef, il est donc nécessaire de faire une parenthèse plus mathématique sur les inverses modulaires ! \n",
    "\n",
    "#### Inversibilité dans $\\mathbb{Z}/n\\mathbb{Z}$\n",
    "\n",
    "S'il existe un entier $b$ de $\\mathbb{Z}/n\\mathbb{Z}$ tel que $a*b \\mod n = 1$ alors b est appelé __inverse__ de a dans $\\mathbb{Z}/n\\mathbb{Z}$ et est noté $a^{-1}$.\n",
    "\n",
    "$a$ est inversible dans $\\mathbb{Z}/n\\mathbb{Z}$ ssi $a$ et $n$ sont premiers entre eux, c'est à dire qu'ils n'ont aucun diviseur commun (i.e. $pgcd(a,n) = 1$).\n",
    "\n",
    "> __Question 5 :__\n",
    "- Faire une fonction `estInversible(a, n)` qui renvoie `True` si $a$ est inversible sur $\\mathbb{Z}/n\\mathbb{Z}$ et `False`sinon.\n",
    "- Faire une fonction `listeInversibles(n)` qui renvoie la liste de tous les éléments inversibles de $\\mathbb{Z}/n\\mathbb{Z}$\n",
    "\n"
   ]
  },
  {
   "cell_type": "code",
   "execution_count": 15,
   "metadata": {},
   "outputs": [
    {
     "name": "stdout",
     "output_type": "stream",
     "text": [
      "estInversible : OK\n"
     ]
    }
   ],
   "source": [
    "def estInversible(a,n):\n",
    "    \n",
    "    while n != 0 : \n",
    "        a, n = n, a % n\n",
    "        \n",
    "    return a == 1\n",
    "\n",
    "\n",
    "try:\n",
    "    assert estInversible(0,180) == False\n",
    "    assert estInversible(1,180) == True\n",
    "    assert estInversible(4,180) == False\n",
    "    assert estInversible(5,180) == False\n",
    "    assert estInversible(179,180) == True\n",
    "    assert estInversible(11,180) == True\n",
    "    assert estInversible(131,180) == True\n",
    "    assert estInversible(13,26) == False\n",
    "    assert estInversible(4,26) == False\n",
    "    assert estInversible(5,26) == True\n",
    "    print(\"estInversible : OK\")\n",
    "except:\n",
    "    print(\"estInversible : ERREUR\")\n"
   ]
  },
  {
   "cell_type": "code",
   "execution_count": 16,
   "metadata": {},
   "outputs": [
    {
     "name": "stdout",
     "output_type": "stream",
     "text": [
      "listeInversibles : OK\n"
     ]
    }
   ],
   "source": [
    "def listeInversibles(n):\n",
    "    lst = []\n",
    "    for k in range(n) : \n",
    "        if estInversible(k,n) : \n",
    "            lst.append(k)\n",
    "    return lst\n",
    "\n",
    "try:\n",
    "    assert listeInversibles(26) == [1, 3, 5, 7, 9, 11, 15, 17, 19, 21, 23, 25]\n",
    "    assert listeInversibles(5) == [1, 2, 3, 4]\n",
    "    assert listeInversibles(6) == [1, 5]\n",
    "    print(\"listeInversibles : OK\")\n",
    "except:\n",
    "    print(\"listeInversibles : ERREUR\")\n",
    "\n",
    "    "
   ]
  },
  {
   "cell_type": "markdown",
   "metadata": {},
   "source": [
    "Maintenant que nous savons si un nombre est inversible dans $\\mathbb{Z}/n\\mathbb{Z}$, il nous faut pouvoir calculer son inverse. Une méthode consiste à trouver les __coefficients de Bezout__ entre $a$ et $n$.\n",
    "\n",
    "De manière générale, les coefficients de Bezout de $a$ et $b$ sont les entiers relatifs $s$ et $t$ tels que $sa + tb = pgcd(a,b) $ \n",
    "\n",
    "Si $a$ est inversible, il s'agit donc de trouver les entiers relatifs $s$ et $t$ tels que $sa + tn = 1 $ car a et n sont premiers entre eux (donc $pgcd(a,n) = 1$)\n",
    "\n",
    "Comme $tn = 0$ dans $\\mathbb{Z}/n\\mathbb{Z}$ ($tn$ est un multiple de n), on a $sa=1$ donc $a^{-1} = s\\mod n$ (définition de l'inverse).\n",
    "\n",
    ">__Question 6 :__\n",
    "A partie de la fonction `coeffBezout(a, b)` qui renvoie les valeurs de $pgcd(a,b)$, $s$ et $t$ dans une liste, faire une fonction `inverse(a, n)` qui teste si $a$ est inversible et, si oui, renvoie sont inverse. Sinon, renvoie -1."
   ]
  },
  {
   "cell_type": "code",
   "execution_count": 17,
   "metadata": {},
   "outputs": [
    {
     "name": "stdout",
     "output_type": "stream",
     "text": [
      "coeffBezout : OK\n"
     ]
    }
   ],
   "source": [
    "# sources : cette [vidéo](https://www.youtube.com/watch?v=7o79t2KAKxE&list=PLE8WtfrsTAinMMyQkK_CzXhXU_LHRNXy_&index=3) \n",
    "# et [celle-ci](https://www.youtube.com/watch?v=BkK1_FspgYQ).\n",
    "def coeffBezout(a, b) :\n",
    "    l1 = np.array([a, 1, 0])\n",
    "    l2 = np.array([b, 0, 1])\n",
    "    \n",
    "    while( l2[0] != 0):\n",
    "        mult = l1[0]//l2[0]\n",
    "        ltmp = l2\n",
    "        l2 = l1 - mult*l2\n",
    "        l1 = ltmp\n",
    "    if(l1[0]<0):\n",
    "        l1 = -l1\n",
    "        \n",
    "    return l1.tolist()\n",
    "\n",
    "try:\n",
    "    assert coeffBezout(180, 11) == [1, 3,-49]\n",
    "    assert coeffBezout(23,26) == [1, -9, 8]\n",
    "    assert coeffBezout(26, 3) == [1, -1, 9]\n",
    "    print(\"coeffBezout : OK\")\n",
    "except:\n",
    "    print(\"coeffBezout : ERREUR\")\n",
    "    "
   ]
  },
  {
   "cell_type": "code",
   "execution_count": 18,
   "metadata": {},
   "outputs": [
    {
     "data": {
      "text/plain": [
       "131"
      ]
     },
     "execution_count": 18,
     "metadata": {},
     "output_type": "execute_result"
    }
   ],
   "source": [
    "def inverse(a, n) :\n",
    "    x = 0\n",
    "    if estInversible(a,n) : \n",
    "        while (a*x)%n != 1 : \n",
    "            x += 1\n",
    "        return x\n",
    "    else : \n",
    "        return -1\n",
    "\n",
    "inverse(11, 180)"
   ]
  },
  {
   "cell_type": "code",
   "execution_count": 19,
   "metadata": {},
   "outputs": [
    {
     "data": {
      "text/plain": [
       "131"
      ]
     },
     "execution_count": 19,
     "metadata": {},
     "output_type": "execute_result"
    }
   ],
   "source": [
    "def inverse(a,n) : \n",
    "    pgcd,s,t = coeffBezout(a,n)\n",
    "    if pgcd == 1 : \n",
    "        return s%n\n",
    "inverse(11, 180)"
   ]
  },
  {
   "cell_type": "code",
   "execution_count": 20,
   "metadata": {},
   "outputs": [
    {
     "name": "stdout",
     "output_type": "stream",
     "text": [
      "inverse : OK\n"
     ]
    }
   ],
   "source": [
    "try:\n",
    "    assert inverse(11, 180) == 131\n",
    "    assert inverse(3, 26) == 9\n",
    "    assert inverse(23, 26) == 17\n",
    "    print(\"inverse : OK\")\n",
    "except:\n",
    "    print(\"inverse : ERREUR\")\n",
    "    \n",
    "    "
   ]
  },
  {
   "cell_type": "markdown",
   "metadata": {},
   "source": [
    "Nous avons maintenant toutes les cartes en main pour définir la fonction de déchiffrement affine. Pour rappel : \n",
    "\n",
    "\\begin{align*}\n",
    "  D_k \\colon \\mathbb{Z}/26\\mathbb{Z} &\\to \\mathbb{Z}/26\\mathbb{Z}\\\\\n",
    "  c_i &\\mapsto m_i = \\alpha c_i + \\beta\n",
    "\\end{align*}\n",
    "\n",
    "avec $\\alpha = a^{-1}$ et $\\beta = (-a^{-1}b) \\mod n$\n",
    "\n",
    "où $a^{-1}$ désigne l'inverse modulaire de $a$.\n",
    "\n",
    "\n",
    "\n",
    "> __Question 7 (déchiffrement)__ : Définir une fonction `dechiffrementAffine(msgChiffre, clef, alphabet)` qui étant donné un message chiffré `msgChiffre`, la `clef` qui a servi à construire ce message chiffré composée de a et b et un alphabet `alphabet` (par défaut, l'alphabet français) renvoie le message en clair correspondant."
   ]
  },
  {
   "cell_type": "code",
   "execution_count": 21,
   "metadata": {},
   "outputs": [
    {
     "data": {
      "text/plain": [
       "'messageenclair'"
      ]
     },
     "execution_count": 21,
     "metadata": {},
     "output_type": "execute_result"
    }
   ],
   "source": [
    "def dechiffrementAffine(cypher, clef, alphabet = \"abcdefghijklmnopqrstuvwxyz\"):\n",
    "    msg = ''\n",
    "    for char in cypher : \n",
    "        alpha = inverse(clef[0],len(alphabet))\n",
    "        beta = (-alpha*clef[1])%len(alphabet)\n",
    "        index = (alpha*alphabet.find(char)+beta)%26\n",
    "        msg += alphabet[index]\n",
    "    return msg\n",
    "\n",
    "dechiffrementAffine(\"oqggewqqrklecd\",[3, 4])"
   ]
  },
  {
   "cell_type": "code",
   "execution_count": 22,
   "metadata": {},
   "outputs": [
    {
     "name": "stdout",
     "output_type": "stream",
     "text": [
      "dechiffrementAffine : OK\n"
     ]
    }
   ],
   "source": [
    "try:\n",
    "    assert dechiffrementAffine(\"oqggewqqrklecd\",[3, 4]) == \"messageenclair\"\n",
    "    assert dechiffrementAffine(\"wueegouutazgih\",[23,6]) == \"messageenclair\"\n",
    "    print(\"dechiffrementAffine : OK\")\n",
    "except:\n",
    "    print(\"dechiffrementAffine : ERREUR\")"
   ]
  },
  {
   "cell_type": "markdown",
   "metadata": {},
   "source": [
    "### 2 - b) Attaque : Analyse de fréquence\n",
    "\n",
    "Nous allons maintenant coder une attaque par analyse de fréquence dans le cas du chiffrement affine. Dans le chiffrement par décalage, il n'y avait qu'une seule inconnue : le pas de décalage $k$. Dans le chiffrement affine, il s'agit de trouver les valeurs de $a$ et $b$, ou plus exactement, de $\\alpha$ et $\\beta$. Il nous faut donc résoudre deux équations à deux inconnues : \n",
    "\n",
    "$$\n",
    "\\left\\{\n",
    "    \\begin{array}{ll}\n",
    "        x_c\\alpha + \\beta & = x_m \\mod 26 \\\\\n",
    "        y_c\\alpha + \\beta & = y_m \\mod 26 \\\\\n",
    "    \\end{array}\n",
    "\\right.\n",
    "$$\n",
    "\n",
    "où $x_c$ (resp. $y_c$) désigne la lettre qui code $x_m$ (resp. $y_m$) dans le message chiffré.\n",
    "\n",
    "_Note_ : L'attaque par force brute est toujours très faisable. Il n'y aurait que $Card((\\mathbb{Z}/n\\mathbb{Z})^*)*Card(\\mathbb{Z}/n\\mathbb{Z}) = 12 * 26 = 312$ clefs à tester.\n",
    "\n",
    "> __Question 8 (attaque par analyse de fréquence)__ : Résolution de deux équations à deux inconnues.\n",
    "- Faire une fonction `resEquations(xc,xm,yc,ym,alphabet)` qui renvoie les valeurs de $\\alpha$ et $\\beta$ par résolution du système d'équation donné ci-dessus.\n",
    "- Faire une fonction `attaqueFrequenceAff(msgCrypte, frequenceLangue, alphabet)` qui utilise les fonctions précédentes pour décrypter le message en paramètre en comparant les lettres les plus fréquentes dans le message chiffré et dans la langue considérée. `frequenceLangue` est un dictionnaire des fréquences dans la langue du message (le dictionnaire des fréquences de chaque lettre en français `frequenceFrancais` vous est fourni plus haut). Il faudra certainement tester plusieurs possibilités...\n"
   ]
  },
  {
   "cell_type": "code",
   "execution_count": 23,
   "metadata": {},
   "outputs": [
    {
     "data": {
      "text/plain": [
       "(9.0, 3.0)"
      ]
     },
     "execution_count": 23,
     "metadata": {},
     "output_type": "execute_result"
    }
   ],
   "source": [
    "\"\"\"\n",
    "resolution des equations\n",
    "xc * alpha + beta = xm mod 26\n",
    "yc * alpha + beta = ym mod 26\n",
    "\"\"\"\n",
    "def resEquations(xc, xn, yc, yn, alphabet=\"abcdefghijklmnopqrstuvwxyz\"):\n",
    "    # Convertir les lettres en nombres selon l'alphabet donné\n",
    "    xc = alphabet.index(xc)\n",
    "    xn = alphabet.index(xn)\n",
    "    yc = alphabet.index(yc)\n",
    "    yn = alphabet.index(yn)\n",
    "    \n",
    "    # Résoudre les équations pour alpha et beta\n",
    "    d = coeffBezout(xn - yn, xc - yc)[0]\n",
    "    alpha = (((xn-yn)/d) * inverse((xc-yc)/d,len(alphabet)))% len(alphabet)\n",
    "    beta = (xn - xc*alpha) %len(alphabet)\n",
    "    \n",
    "    \n",
    "    return alpha, beta\n",
    "\n",
    "resEquations('a','d','d','e')\n"
   ]
  },
  {
   "cell_type": "code",
   "execution_count": 24,
   "metadata": {},
   "outputs": [
    {
     "name": "stdout",
     "output_type": "stream",
     "text": [
      "resEquations : OK\n"
     ]
    }
   ],
   "source": [
    "try:\n",
    "    assert resEquations('a','d','d','e') == (9,3)\n",
    "    assert resEquations('t','e','m','t') == (9,15)\n",
    "    assert resEquations('t','e','m','a') == (8,8)\n",
    "    assert resEquations('r','e','f','a') == (9,7)\n",
    "    print(\"resEquations : OK\")\n",
    "except:\n",
    "    print(\"resEquations : ERREUR\")"
   ]
  },
  {
   "cell_type": "code",
   "execution_count": 29,
   "metadata": {},
   "outputs": [
    {
     "name": "stdout",
     "output_type": "stream",
     "text": [
      "nousallonsmaintenantcoderuneattaqueparanalysedefrequencedanslecasduchiffrementaffineattentionilfautlaisseunpeudejeulapremierelettreduchiffrenecorrespondpasforcementalapremierelettredufrancaisidempourladeuxieme\n"
     ]
    }
   ],
   "source": [
    "def attaqueFrequenceAff(cypher, frequenceLangue = frequenceFrancais, alphabet = \"abcdefghijklmnopqrstuvwxyz\"):\n",
    "    freqs = frequenceTouteLettre(cypher)\n",
    "    c_common1 = triFreq(freqs)[0][0]\n",
    "    c_common2 = triFreq(freqs)[1][0]\n",
    "    a_common1 = triFreq(frequenceFrancais)[0][0]\n",
    "    a_common2 = triFreq(frequenceFrancais)[1][0]\n",
    "    \n",
    "    alpha,beta = resEquations(c_common1,a_common1,c_common2,a_common2)\n",
    "    msg = chiffrementAffine(cypher,(int(alpha),int(beta)))\n",
    "    return msg\n",
    "    \n",
    "\n",
    "\n",
    "c1 = \"svnhfmmvshpfdskrsfsklvorensrfkkfbnryfefsfmzhroruerbnrslrofshmrlfhonladuuerprskfuudsrfkkrskdvsdmufnkmfdhhrnsyrnorgrnmfyerpdrermrkkeronladuuersrlveerhyvsoyfhuvelrprskfmfyerpdrermrkkeronuefslfdhdorpyvnemfornwdrpr\"\n",
    "print(attaqueFrequenceAff(c1))"
   ]
  },
  {
   "cell_type": "code",
   "execution_count": 32,
   "metadata": {},
   "outputs": [
    {
     "name": "stdout",
     "output_type": "stream",
     "text": [
      "\n",
      "Un peu plus complique...\n",
      "iecaymaekygeweegyeekyiymmaeymeewwweeemiiekiymmackqqeoemamysyeekecgecymwqqkmcgmeaemakyqeckqewqgeqmokmamamecweeeqywaiecaymieawawmqgywokyccegeemqkmc\n",
      "\n",
      "qeysmcsewmkegeekmeewmqmccsemceegggeeecqqewqmccsywooeiecscmumeeweykeymcgoowcykcesecswmoeywoegokeociwcscsceygeeeomgsqeysmcqesgsgcokmgiwmyyekeecowcy\n",
      "\n",
      "aegikwieykcemeeckeeykakwwiekweemmmeeewaaeyakwwigysseuewiwkqkeeyegcegkwmssywgcweiewiyksegysemsceswuywiwiwegmeeeskmiaegikwaeimimwsckmuykggeceewsywg\n",
      "\n",
      "wacegseaugyaiaaygaaugwgsseagsaaiiiaaaswwauwgssecuooaqasesgmgaauacyacgsioouscysaeaseugoacuoaioyaosqusesesaciaaaogiewacegswaeieisoygiqugccayaasousc\n",
      "\n",
      "iawsoqsamoeakaaeoaamoioqqsaoqaakkkaaaqiiamioqqswmyyauaqsqocoaamaweawoqkyymqweqasaqsmoyawmyakyeayqumqsqsqawkaaayoksiawsoqiaskskqyeokumowwaeaaqymqw\n",
      "\n",
      "saeimkiaomwaqaawmaaomsmkkiamkaaqqqaaakssaosmkkieoccagakikmymaaoaewaemkqccokewkaiakiomcaeocaqcwackgokikikaeqaaacmqisaeimksaiqiqkcwmqgomeeawaakcoke\n",
      "\n",
      "gsyekuesakmsqssmkssakgkuueskussqqqsssuggsagkuueyaiisosueukckssasymsykuqiiauymusesueakisyaisqimsiuoaueueusyqsssikqegsyekugseqequimkqoakyysmssuiauy\n",
      "\n",
      "kswaecasgeosissoessgekeccasecssiiisssckksgkeccawguusyscaceqessgswosweciuugcwocsascageuswgusiuosucygcacacswisssueiakswaecksaiaicuoeiygewwsosscugcw\n",
      "\n",
      "csaiqmisuqksysskqssuqcqmmisqmssyyysssmccsucqmmiauwwsesmimqoqssusaksaqmywwumakmsismiuqwsauwsywkswmeumimimsayssswqyicsaiqmcsiyiymwkqyeuqaaskssmwuma\n",
      "\n",
      "migecqeiockiaiikciiocmcqqeicqiiaaaiiiqmmiomcqqegouuisiqeqcwciioigkigcqauuoqgkqieiqeocuigouiaukiuqsoqeqeqigaiiiucaemigecqmieaeaqukcasocggikiiquoqg\n",
      "\n",
      "qieawyaiuwmisiimwiiuwqwyyaiwyiisssiiiyqqiuqwyyaeuggiciyaywkwiiuiemiewysgguyemyiaiyauwgieugisgmigycuyayayiesiiigwsaqieawyqiasasygmwscuweeimiiyguye\n",
      "\n",
      "yiaskosigkqiciiqkiigkykoosikoiiccciiioyyigykoosageeiwiosokmkiigiaqiakoceegoaqoisiosgkeiageiceqieowgososoiaciiiekcsyiaskoyiscscoeqkcwgkaaiqiioegoa\n",
      "\n"
     ]
    }
   ],
   "source": [
    "def attaqueFrequenceAff(cypher, frequenceLangue = frequenceFrancais, alphabet = \"abcdefghijklmnopqrstuvwxyz\"):\n",
    "    freqs = frequenceTouteLettre(cypher)\n",
    "    c_common1 = triFreq(freqs)[0][0]\n",
    "    c_common2 = triFreq(freqs)[1][0]\n",
    "    msg = []\n",
    "    for k in range(4) : \n",
    "        for i in range(4) : \n",
    "            try :\n",
    "                a_common1 = triFreq(frequenceFrancais)[k][0]\n",
    "                a_common2 = triFreq(frequenceFrancais)[i][0]\n",
    "                if a_common1 != a_common2 : \n",
    "                    alpha,beta = resEquations(c_common1,a_common1,c_common2,a_common2)\n",
    "                    msg.append(chiffrementAffine(cypher,(int(alpha),int(beta))))\n",
    "            except : \n",
    "                pass\n",
    "    return msg\n",
    "    \n",
    "\n",
    "\n",
    "print(\"\\nUn peu plus complique...\")\n",
    "c2 = \"ntjmpumgxpqtstgqpgtxpnchumtputgfsftgthnngxnchumwxootrtumhpyctgktjqtjchfooxujqhgztumxpotjxotfoqtohrxumhzutwftgtopfmntjmpuatmfmshodpfrxpjjtqtghbxuj\"\n",
    "m2 = attaqueFrequenceAff(c2)\n",
    "for line in m2 : \n",
    "    print(line + \"\\n\")\n"
   ]
  }
 ],
 "metadata": {
  "kernelspec": {
   "display_name": "Python 3 (ipykernel)",
   "language": "python",
   "name": "python3"
  },
  "language_info": {
   "codemirror_mode": {
    "name": "ipython",
    "version": 3
   },
   "file_extension": ".py",
   "mimetype": "text/x-python",
   "name": "python",
   "nbconvert_exporter": "python",
   "pygments_lexer": "ipython3",
   "version": "3.11.7"
  }
 },
 "nbformat": 4,
 "nbformat_minor": 4
}
