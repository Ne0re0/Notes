{
 "cells": [
  {
   "cell_type": "markdown",
   "metadata": {},
   "source": [
    "# <center> TP3 - Génération d'une clef aléatoire <br> Registres à décalage à rétroaction linéaire (LFSR)</center>\n",
    "<center> 2023/2024 - L. Naert, T. Ferragut, T. Godin </center>\n",
    "\n",
    "_Certains exemples et textes de ce TP sont tirés de Exercices et Problèmes de cryptographie de Damien Vergnaud, 3ème édition ainsi que de Codes et Cryptologie de Christine Bachoc._\n",
    "\n",
    "Ce TP traite d'un des aspects de la cryptographie symétrique moderne (post 1950) : la génération d'une clef binaire \"aléatoire\" pour le chiffrement d'un message, lui aussi binaire, selon le principe du _masque jetable_."
   ]
  },
  {
   "cell_type": "code",
   "execution_count": 3,
   "metadata": {},
   "outputs": [],
   "source": [
    "import numpy as np\n",
    "import datetime as dt"
   ]
  },
  {
   "cell_type": "markdown",
   "metadata": {},
   "source": [
    "## 1 - Messages en binaire et masque jetable\n",
    "\n",
    "Avec l'arrivée des ordinateurs et du binaire, les messages sont d'abord convertis en suites de $0$ et de $1$ avant d'être transmis. Nous travaillerons donc maintenant non plus sur l'ensemble $\\mathbb{Z}/26\\mathbb{Z}$ mais sur $\\mathbb{Z}/2\\mathbb{Z}$ qui est un ensemble composé de deux valeurs $0$ et $1$.\n",
    "\n",
    "\n",
    "Voici deux fonctions qui vous seront (certainement) utiles dans la suite du TP :\n",
    "\n",
    "- `stringToBinary` convertit une chaine de caractère en une suite binaire.\n",
    "- `binaryToString` permet de changer une suite binaire en chaine de caractère."
   ]
  },
  {
   "cell_type": "code",
   "execution_count": 4,
   "metadata": {},
   "outputs": [
    {
     "name": "stdout",
     "output_type": "stream",
     "text": [
      "En binaire : 01101101011001010111001101110011011000010110011101100101001000000110010101101110001000000110001101101100011000010110100101110010\n",
      "En ascii : message en clair\n"
     ]
    }
   ],
   "source": [
    "def stringToBinary(msg):\n",
    "    msg_bin = \"\"\n",
    "    for i in bytearray(msg, encoding ='ascii') :\n",
    "        msg_bin = msg_bin + format(i, '08b')\n",
    "    return msg_bin\n",
    "\n",
    "def binaryToString(binary):\n",
    "    msg = \"\"\n",
    "    for i in range(0, len(binary), 8):\n",
    "        byte_int = int(binary[i:i+8], 2)\n",
    "        byte_char = chr(byte_int)\n",
    "        msg = msg + byte_char\n",
    "        \n",
    "    return msg\n",
    "\n",
    "        \n",
    "print(\"En binaire :\", stringToBinary(\"message en clair\"))\n",
    "print(\"En ascii :\",binaryToString(\"01101101011001010111001101110011011000010110011101100101001000000110010101101110001000000110001101101100011000010110100101110010\"))\n",
    "\n"
   ]
  },
  {
   "cell_type": "markdown",
   "metadata": {},
   "source": [
    "Le masque jetable, aussi appelé \"chiffrement de Vernam\", repose sur le principe du \"ou exclusif\" (_xor_, noté $\\oplus$, opérateur ^ en python) bit à bit entre le message binaire à chiffrer et la clef de chiffrement (de même longueur). \n",
    "\n",
    "Voici la table de vérité du \"ou exclusif\" :\n",
    "$$ 0 \\oplus 0 = 0 $$ \n",
    "$$ 1 \\oplus 1 = 0 $$\n",
    "$$ 1 \\oplus 0 = 1 $$\n",
    "$$ 0 \\oplus 1 = 1 $$\n",
    "\n",
    "Ainsi, étant donné une clef _k_ de longueur _n_ (donc $k \\in (\\mathbb{Z}/2\\mathbb{Z})^n$)\n",
    "\n",
    "\\begin{align*}\n",
    "  E_k \\colon (\\mathbb{Z}/2\\mathbb{Z})^n &\\to (\\mathbb{Z}/2\\mathbb{Z})^n\\\\\n",
    "  m &\\mapsto c = m \\oplus k\n",
    "\\end{align*}\n",
    "\n",
    "Par exemple, avec $m = 1100 1100$ et $k = 1010 1011$, on aura $c = 0110 0111$ (Vérifiez par vous même !)\n",
    "\n",
    "Le masque jetable garantit la sécurité des messages à condition qu'une clef ne serve qu'au chiffrement d'un seul message (d'où le \"jetable\" du nom) sinon, la cryptanalyse devient possible.\n",
    "\n",
    "\n",
    "> __Question 1 (masque jetable/Chiffrement de Vernam)__ : Définir une fonction `chiffrementVernam(msgBinaire, clef)` qui étant donné un message en clair binaire `msgBinaire`, et une suite binaire `clef` de même longueur que le message retourne le message chiffré correspondant."
   ]
  },
  {
   "cell_type": "code",
   "execution_count": 5,
   "metadata": {},
   "outputs": [
    {
     "name": "stdout",
     "output_type": "stream",
     "text": [
      "101110101010100110111110101000101010110110100001\n",
      "101110101010100110111110101000101010110110100001\n",
      "48\n"
     ]
    }
   ],
   "source": [
    "def chiffrementVernam(msgBinaire, clef):\n",
    "    cypher = \"\"\n",
    "    for k in range(len(msgBinaire)) : \n",
    "        cypher += str(int(msgBinaire[k])^int(clef[k]))\n",
    "    return cypher\n",
    "\n",
    "cypher = chiffrementVernam(stringToBinary(\"vernam\"),\"110011001100110011001100110011001100110011001100\")\n",
    "print(cypher)\n",
    "print(\"101110101010100110111110101000101010110110100001\")\n",
    "print(len(cypher))"
   ]
  },
  {
   "cell_type": "code",
   "execution_count": 6,
   "metadata": {},
   "outputs": [
    {
     "name": "stdout",
     "output_type": "stream",
     "text": [
      "chiffrementVernam : OK\n"
     ]
    }
   ],
   "source": [
    "try:\n",
    "    assert chiffrementVernam(stringToBinary(\"vernam\"),\"110011001100110011001100110011001100110011001100\") == \"101110101010100110111110101000101010110110100001\"\n",
    "    print(\"chiffrementVernam : OK\")\n",
    "except:\n",
    "    print(\"chiffrementVernam : ERREUR\")"
   ]
  },
  {
   "cell_type": "markdown",
   "metadata": {},
   "source": [
    "Le déchiffrement s'opère en executant la même opération : $m = c \\oplus k$\n",
    "\n",
    "> __Question 2 (déchiffrement)__ : Le démontrer."
   ]
  },
  {
   "cell_type": "markdown",
   "metadata": {},
   "source": [
    "Pour montrer que a⊕b=ca⊕b=c et b⊕c=ab⊕c=a, on peut utiliser les propriétés de l'opération XOR :\n",
    "\n",
    "    a⊕b=ca⊕b=c\n",
    "\n",
    "Pour montrer cela, regardons la définition de cc. cc est le résultat de l'opération XOR entre aa et bb. Donc, c=a⊕bc=a⊕b.\n",
    "\n",
    "    b⊕c=ab⊕c=a\n",
    "\n",
    "Pour prouver ceci, remplaçons cc par sa valeur précédemment trouvée. Donc, b⊕c=b⊕(a⊕b)b⊕c=b⊕(a⊕b).\n",
    "\n",
    "Maintenant, utilisons les propriétés de l'opération XOR : x⊕x=0x⊕x=0 pour n'importe quelle valeur xx.\n",
    "\n",
    "Donc, b⊕(a⊕b)=(b⊕b)⊕a=0⊕a=ab⊕(a⊕b)=(b⊕b)⊕a=0⊕a=a.\n",
    "\n",
    "Ainsi, nous avons montré que a⊕b=ca⊕b=c et b⊕c=ab⊕c=a, en utilisant les propriétés de l'opération XOR"
   ]
  },
  {
   "cell_type": "markdown",
   "metadata": {},
   "source": [
    "> __Question 3 (déchiffrement)__ : Quel clair (en ascii) représente le chiffré \"1010001010101101101010011011111010111000\" codé avec la clef \"1100110011001100110011001100110011001100\" ? Ecrire le bout de code permettant de le déchiffrer."
   ]
  },
  {
   "cell_type": "code",
   "execution_count": 7,
   "metadata": {},
   "outputs": [
    {
     "name": "stdout",
     "output_type": "stream",
     "text": [
      "0110111001100001011001010111001001110100\n",
      "naert\n"
     ]
    }
   ],
   "source": [
    "cypher = \"1010001010101101101010011011111010111000\"\n",
    "key =    \"1100110011001100110011001100110011001100\"\n",
    "clair = chiffrementVernam(cypher,key)\n",
    "print(clair)\n",
    "print(binaryToString(clair))"
   ]
  },
  {
   "cell_type": "markdown",
   "metadata": {},
   "source": [
    "## 2 - Registre à décalage à rétroaction linéaire\n",
    "\n",
    "En pratique, il existe deux inconvénients majeurs au principe du chiffrement par masque jetable : \n",
    "1. Les clefs doivent faire la même longueur que le message à chiffrer. Transmettre des clefs aussi longues est un problème en soi. \n",
    "2. Pour assurer la sécurité des messages, il faut que la clef soit choisie aléatoirement. Or, nous ne savons pas comment produire du vrai aléa. \n",
    "\n",
    "\n",
    "Les __registres à décalage à rétroaction linéaire__ ou __LFSR__ (pour _linear feedback shift register_) permettent de pallier partiellement ces deux inconvénients en générant une suite binaire proche de l'aléatoire véritable à partir de quelques bits appelés _graine_. Il suffit donc de transmettre la graine ainsi que la fonction interne du LFSR, et non plus la suite entière, au recepteur du message pour qu'il puisse déchiffrer le message.\n",
    "\n",
    "Un LFSR binaire de longueur $L$ est composé :\n",
    "- d'un registre à décalage contenant une suite de $L$ bits ($s_i$, $s_{i+1}$, ..., $s_{i+L−1}$) décrivant l'état interne du registre.\n",
    "- d'une fonction de rétroaction linéaire permettant de calculer la valeur du bit suivant à insérer dans le registre.\n",
    "\n",
    "A chaque top d'horloge, le bit $s_i$ constitue la sortie du registre, et les autres sont décalés ; le nouveau bit $s_{i+L}$, placé dans la cellule rendue libre du registre, est donné par une fonction linéaire :\n",
    "$s_{i+L} = c_0s_{i} \\oplus c_1s_{i+1} \\oplus ... \\oplus c_{L−1}s_{i+L-1}$\n",
    "où les coefficients $c_i$ sont binaires.\n",
    "\n",
    "On appelle __suite chiffrante__ la concaténation des sorties du registre. C'est cette suite qui servira ensuite de clef de chiffrement.\n",
    "\n",
    "On peut représenter ce LFSR de la manière suivante :\n",
    "<img src=\"TP3_LFSR_th.png\" width=\"500\">\n",
    "\n",
    "\n",
    "Ci-dessous un exemple de LFSR de longueur $L = 4$ initialisé avec la graine $1001$ à $t_0$: \n",
    "<img src=\"TP3_LFSR_ex1.png\" width=\"400\">\n",
    "\n",
    "Les coefficients de la fonction de rétroaction sont : $c_0 = 1, c_1 = 0, c_2 = 1, c_3 = 1$. \n",
    "\n",
    "Le bit inséré à droite est donc calculé grace à la formule : $s_{i+4} = s_{i} \\oplus s_{i+2} \\oplus s_{i+3}$.\n",
    "\n",
    "Nous avons déroulé les 2 premières itérations ($t_1$ et $t_2$) du registre. A l'étape $t_1$, la sortie est le bit situé le plus à gauche du registre (de valeur $1$). A l'étape $t_2$, c'est le bit $0$ qui sort permettant de créer la suite chiffrante $10$ en considérant la sortie de l'étape précédente.\n",
    "<img src=\"TP3_LFSR_ex2.png\" width=\"400\">\n",
    "\n",
    "\n",
    "> __Question 4 (suite chiffrante)__ : Quelle sera la suite chiffrante à $t_{14}$ ? Que remarquez vous ?"
   ]
  },
  {
   "cell_type": "markdown",
   "metadata": {},
   "source": [
    "t1=0010  \n",
    "t2=0101  \n",
    "  \n",
    "t3=1011  `Début de la boucle`  \n",
    "t4=0110  \n",
    "t5=1101  `Fin de la boucle`   \n",
    "\n",
    "t6=1011  `Début de la boucle`  \n",
    "t7=0110  \n",
    "t8=1101  `Fin de la boucle`  \n",
    "\n",
    "t9=1011  `Début de la boucle`  \n",
    "t10=0110  \n",
    "t11=1101  `Fin de la boucle`  \n",
    "\n",
    "t12=1011  `Début de la boucle`  \n",
    "t13=0110  \n",
    "t14=1101  `Fin de la boucle`  \n",
    "\n",
    "suite chiffrante : 100101101101101\n",
    "\n",
    "### Ca boucle"
   ]
  },
  {
   "cell_type": "markdown",
   "metadata": {},
   "source": [
    "> __Question 5 (registre à décalage)__ : Ecrire une fonction `etatSuivant(etat,coeff)` qui prend une liste binaire correspondant à l'état interne du registre ainsi qu'une liste des coefficients de rétroaction non nuls (i.e. indices des cases sur lesquelles faire le xor) et renvoie l'état suivant du registre et le bit de sortie."
   ]
  },
  {
   "cell_type": "code",
   "execution_count": 8,
   "metadata": {},
   "outputs": [
    {
     "name": "stdout",
     "output_type": "stream",
     "text": [
      "etatSuivant : OK\n"
     ]
    }
   ],
   "source": [
    "def etatSuivant(etat,coeff):\n",
    "    new = int(etat[coeff[0]])\n",
    "    for value in coeff[1:] : \n",
    "        new = new^int(etat[value])\n",
    "    return ([element for element in etat[1:]] + [new],etat[0])\n",
    "\n",
    "try:\n",
    "    assert etatSuivant([1,0,0,1],[0,2,3]) == ([0, 0, 1, 0],1) #Exemple précédent t1\n",
    "    assert etatSuivant(etatSuivant([1,0,0,1],[0,2,3])[0],[0,2,3]) == ([0, 1, 0, 1],0) #Exemple précédent t2\n",
    "    print(\"etatSuivant : OK\")\n",
    "except:\n",
    "    print(\"etatSuivant : ERREUR\")"
   ]
  },
  {
   "cell_type": "markdown",
   "metadata": {},
   "source": [
    "> __Question 6 (suite chiffrante)__ : Ecrire une fonction `suite_LSFR(graine,coeff,n)` qui prend en entrée une liste binaire correspondant à la graine du registre, une liste des coefficients de rétroaction non nuls et la longueur souhaitée de la suite chiffrante et qui renvoie la suite chiffrante binaire sous forme d'une chaine de caractère."
   ]
  },
  {
   "cell_type": "code",
   "execution_count": 9,
   "metadata": {},
   "outputs": [
    {
     "data": {
      "text/plain": [
       "'10010111001011'"
      ]
     },
     "execution_count": 9,
     "metadata": {},
     "output_type": "execute_result"
    }
   ],
   "source": [
    "def suite_LFSR(graine,coeff,n):\n",
    "    key = \"\"\n",
    "    while len(key) != n :\n",
    "        graine, bit = etatSuivant(graine,coeff)\n",
    "        key += str(bit)\n",
    "    return key\n",
    "\n",
    "suite_LFSR([1,0,0,1],[0,2,3],14)\n"
   ]
  },
  {
   "cell_type": "code",
   "execution_count": 10,
   "metadata": {},
   "outputs": [
    {
     "name": "stdout",
     "output_type": "stream",
     "text": [
      "suite_LFSR : OK\n"
     ]
    }
   ],
   "source": [
    "try:\n",
    "    assert suite_LFSR([1,0,0,1],[0,2,3],14) == \"10010111001011\"\n",
    "    print(\"suite_LFSR : OK\")\n",
    "except:\n",
    "    print(\"suite_LFSR : ERREUR\")\n",
    "    "
   ]
  },
  {
   "cell_type": "markdown",
   "metadata": {},
   "source": [
    "La fonction suivante permet de générer une graine d'une taille précisée en paramètre. N'hésitez pas à l'utiliser pour tester vos méthodes."
   ]
  },
  {
   "cell_type": "code",
   "execution_count": 11,
   "metadata": {},
   "outputs": [
    {
     "name": "stdout",
     "output_type": "stream",
     "text": [
      "La graine est égale à : [0, 1, 0, 1, 1, 1, 0, 1] \n",
      "\n"
     ]
    }
   ],
   "source": [
    "def generation_reg_graine(taille):\n",
    "    \"\"\"\n",
    "    Génération d'une graine de taille \"taille\" basée sur l'heure\n",
    "    \"\"\" \n",
    "\n",
    "    ### Transformation de la date en une chaine de caractères\n",
    "    date = str(dt.datetime.now())\n",
    "    #print(date)\n",
    "    ### Transformation de la fin de la chaine en un entier compris entre 0 et 255 pour pouvoir le représenter avec 8 bits\n",
    "    init_entier = int(date[-4:]) % 2**taille # j'ai choisi de prendre les 4 derniers caractères arbitrairement\n",
    "\n",
    "    ### Représentation de l'entier sur un octet\n",
    "    init_bin = bin(init_entier)[2:] # on retire le 0b qui permet de préciser qu'il s'agit d'un nombre binaire\n",
    "    while len(init_bin) < taille : \n",
    "        init_bin = '0' + init_bin # on rajoute des 0 pour que le nombre produit soit composé de taille bits. (padding)\n",
    "    #print(init_bin)\n",
    "    ### Transformation de la chaine des bits en une liste\n",
    "    init_reg = [int(x) for x in init_bin]\n",
    "    return init_reg\n",
    "\n",
    "init_reg = generation_reg_graine(8)\n",
    "print('La graine est égale à :', init_reg,'\\n')"
   ]
  },
  {
   "cell_type": "markdown",
   "metadata": {},
   "source": [
    "> __Question 7 (Chiffrement par LFSR)__ : Ecrire une fonction `chiffrementLFSR(msgAscii, graine,coeff)` qui déroule l'ensemble du processus de chiffrement par masque jetable généré par LSFR et retourne la version binaire du message chiffré."
   ]
  },
  {
   "cell_type": "code",
   "execution_count": 12,
   "metadata": {},
   "outputs": [
    {
     "name": "stdout",
     "output_type": "stream",
     "text": [
      "chiffrementLFSR : OK\n"
     ]
    }
   ],
   "source": [
    "def chiffrementLFSR(msgAscii, graine,coeff):\n",
    "    msgBin = stringToBinary(msgAscii)\n",
    "    key = suite_LFSR(graine,coeff,len(msgBin))\n",
    "    return chiffrementVernam(msgBin,key)\n",
    "\n",
    "try:\n",
    "    assert chiffrementLFSR(\"naert\",[1,0,0,1],[0,2,3]) == \"1111100101001111001110011100101100000110\"\n",
    "    print(\"chiffrementLFSR : OK\")\n",
    "except:\n",
    "    print(\"chiffrementLFSR : ERREUR\")"
   ]
  },
  {
   "cell_type": "markdown",
   "metadata": {},
   "source": [
    "> __Question 8 (Déchiffrement par LFSR)__ : Ecrire une fonction `dechiffrementLFSR(msgChiffBinary, graine,coeff)` qui déroule l'ensemble du processus de déchiffrement et retourne la version ascii du message en clair."
   ]
  },
  {
   "cell_type": "code",
   "execution_count": 13,
   "metadata": {},
   "outputs": [
    {
     "name": "stdout",
     "output_type": "stream",
     "text": [
      "1001011100101110010111001011100101110010\n"
     ]
    },
    {
     "data": {
      "text/plain": [
       "'naert'"
      ]
     },
     "execution_count": 13,
     "metadata": {},
     "output_type": "execute_result"
    }
   ],
   "source": [
    "def dechiffrementLFSR(cypherBin, graine,coeff):\n",
    "    key = suite_LFSR(graine,coeff,len(cypherBin))\n",
    "    print(key)\n",
    "    return binaryToString(chiffrementVernam(cypherBin,key))\n",
    "\n",
    "dechiffrementLFSR(\"1111100101001111001110011100101100000110\",[1,0,0,1],[0,2,3])"
   ]
  },
  {
   "cell_type": "code",
   "execution_count": 14,
   "metadata": {},
   "outputs": [
    {
     "name": "stdout",
     "output_type": "stream",
     "text": [
      "1001011100101110010111001011100101110010\n",
      "chiffrementLFSR : OK\n"
     ]
    }
   ],
   "source": [
    "try:\n",
    "    assert dechiffrementLFSR(\"1111100101001111001110011100101100000110\",[1,0,0,1],[0,2,3]) == \"naert\"\n",
    "    print(\"chiffrementLFSR : OK\")\n",
    "except:\n",
    "    print(\"chiffrementLFSR : ERREUR\")"
   ]
  },
  {
   "cell_type": "markdown",
   "metadata": {},
   "source": [
    "> __Activité 1__ : Chiffrer un message à l'aide d'une clef générée par un LFSR de taille 8 et envoyez le message chiffré, la graine et les coefficients de votre LFSR à votre voisin(e) pour qu'il/elle le déchiffre."
   ]
  },
  {
   "cell_type": "code",
   "execution_count": 15,
   "metadata": {},
   "outputs": [
    {
     "name": "stdout",
     "output_type": "stream",
     "text": [
      "1101101001101100001100000111111100101001010010010000000000100101101101010001010000011110000110101011011110011001000000100010001101101110010001101000101101000011111100101011011011011111111010101101111100110111\n",
      "10100111010011101001110100111010011101001110100111010011101001110100111010011101001110100111010011101001110100111010011101001110100111010011101001110100111010011101001110100111010011101001110100111010011101001110100111010011101001110100111010011101001110100111010011101001\n"
     ]
    },
    {
     "data": {
      "text/plain": [
       "'N0T4N4PT{J3_PR3F3R3_N30_4_G4BR13L}'"
      ]
     },
     "execution_count": 15,
     "metadata": {},
     "output_type": "execute_result"
    }
   ],
   "source": [
    "#chiffrementLFSR('IUT{BR4V0_Y0U3NN_7U_35_B34U}',[1,0,0,1,0,0,1,1],[0,2,4,2,3])\n",
    "print(chiffrementLFSR('IUT{H4CKC1D3N7>>H4CK0LY73}',[1,0,0,1,0,0,1,1],[0,2,4,2,3]))\n",
    "\n",
    "coeff = [0,1,2]\n",
    "seed = [1, 0, 1, 0]\n",
    "cypher = '11101001011111101100100100001110001110101101110110000011111100110011010111010111000010010010101110111001100000011001010000001000101011100110100001000111101101101001110110010100011111101100001000001110001010111010111011100111111001010001110010101100000010010011100010010100'\n",
    "\n",
    "dechiffrementLFSR(cypher,seed,coeff)"
   ]
  },
  {
   "cell_type": "markdown",
   "metadata": {},
   "source": [
    "__Ouverture cryptanalyse__ : Les LFSR sont susceptibles d'être cryptanalysés en utilisant un pivot de Gauss. Vous pouvez vous référer à \"_Exercices et Problèmes de cryptographie_\" de Damien Vergnaud pour plus d'informations."
   ]
  },
  {
   "cell_type": "markdown",
   "metadata": {},
   "source": [
    "## 3 - Générateur à signal d'arrêt\n",
    "\n",
    "\n",
    "En pratique, la suite chiffrante produite par un unique LFSR n'est pas assez complexe pour servir de clef de chiffrement. Nous avons vu notamment à la question 4 que les LFSR pouvait produire des suites chiffrantes périodiques donc loin d'une suite réellement aléatoire. En réalité, toute suite chiffrante produite par un unique LSFR est ultimement périodique.\n",
    "\n",
    "\n",
    "_Définitions_ : \n",
    "\n",
    "Soit une suite $s = (s_0,s_1,s_2...)$ avec pour tout $i \\in \\mathbb{N}$, $s_i \\in \\mathbb{Z}/2\\mathbb{Z}$\n",
    "\n",
    "On dit que $s$ est __périodique__ de période T si $s_i = s_{i+T}$ pour tout $i \\ge 0$\n",
    "\n",
    "On dit qu'une suite $s$ est __ultimement périodique__ de période T si $s_i = s_{i+T}$ pour tout $i$ supérieur ou égal à un certain rang appelé $i_0$. Ainsi, une suite périodique est ultimement périodique ($i_0 = 0$) mais la réciproque est fausse.\n",
    "\n",
    "> __Question 9 (BONUS)__ : Ecrire une fonction `periode(graine,coeff)` qui donne la plus petite période de la suite générée par le générateur défini par `graine` et `coeff` ainsi que `True` s'il s'agit d'une suite périodique et `False` si elle est ultimement périodique avec $i_0 \\gt 0$ ."
   ]
  },
  {
   "cell_type": "code",
   "execution_count": 16,
   "metadata": {},
   "outputs": [
    {
     "data": {
      "text/plain": [
       "(4, False)"
      ]
     },
     "execution_count": 16,
     "metadata": {},
     "output_type": "execute_result"
    }
   ],
   "source": [
    "def periode(graine,coeff):\n",
    "    lst_etats = [graine]\n",
    "    graine, bit = etatSuivant(graine,coeff)\n",
    "    while graine not in lst_etats : \n",
    "        lst_etats.append(graine)\n",
    "        graine, bit = etatSuivant(graine,coeff)\n",
    "    ret = (len(lst_etats) - lst_etats.index(graine),lst_etats.index(graine) == 0)\n",
    "    return ret\n",
    "\n",
    "\n",
    "periode([1,0,0,1],[0,2,3])\n",
    "periode([1,0,1,1],[1,2,3])"
   ]
  },
  {
   "cell_type": "code",
   "execution_count": 17,
   "metadata": {},
   "outputs": [
    {
     "name": "stdout",
     "output_type": "stream",
     "text": [
      "Suite périodique :  10010111001011\n",
      "Suite ultimement périodique (mais non périodique) :  10110011001100\n",
      "periode : OK\n"
     ]
    }
   ],
   "source": [
    "print(\"Suite périodique : \", suite_LFSR([1,0,0,1],[0,2,3],14))\n",
    "print(\"Suite ultimement périodique (mais non périodique) : \",suite_LFSR([1,0,1,1],[1,2,3],14))\n",
    "\n",
    "try:\n",
    "    assert periode([1,0,0,1],[0,2,3]) == (7,True)\n",
    "    assert periode([1,0,1,1],[1,2,3]) == (4,False)\n",
    "    print(\"periode : OK\")\n",
    "except:\n",
    "    print(\"periode : ERREUR\")"
   ]
  },
  {
   "cell_type": "markdown",
   "metadata": {},
   "source": [
    "Pour générer des suites chiffrantes utilisables dans un système cryptographique, les LFSR sont utilisés comme briques de base de système plus complexes : plusieurs LFSR peuvent être combinés pour atteindre la complexité souhaitée.\n",
    "Dans ce TP, nous étudierons un exemple d'un tel générateur : le __générateur à signal d'arrêt__.\n",
    "\n",
    "Le générateur à signal d'arrêt (GSA) est un exemple de registre à décalage irrégulier (1984). Il utilise la sortie d'un premier LFSR $R_1$ pour contrôler l'horloge d'un second LFSR $R_2$. Plus précisément, $R_1$ est un LSFR \"normal\" dont le décalage est commandé par un signal d'horloge (en orange sur l'image ci-dessous) mais $R_2$ ne change d'état à l'instant $t$ que si la sortie de $R_1$ (en vert) est égale à 1 à l'instant $t-1$, autrement dit si la sortie de $R_1$ est égale à 0 à l'instant $t-1$, alors $R_2$ n'est pas décalé et le bit de sortie à l'instant $t$ est donc toujours égal au bit de sortie à l'instant $t-1$.\n",
    "\n",
    "<img src=\"gsa.png\" width=\"300\">\n",
    "\n",
    "\n",
    "> __Question 10 (générateur à signal d'arret)__ : Ecrire une fonction `suite_gsa(graineR1,coeffR1, graineR2, coeffR2, n)` qui renvoie la suite chiffrante binaire de longueur `n` générée par un générateur à signal d'arret composé de R1 et R2."
   ]
  },
  {
   "cell_type": "code",
   "execution_count": 18,
   "metadata": {
    "scrolled": true
   },
   "outputs": [
    {
     "name": "stdout",
     "output_type": "stream",
     "text": [
      "10 premiers termes de la suite chiffrante :  1001101111\n",
      "suite_gsa : OK\n"
     ]
    }
   ],
   "source": [
    "def suite_gsa(graineR1,coeffR1, graineR2, coeffR2, n) :\n",
    "    suite = \"\"\n",
    "    while len(suite ) < n :\n",
    "        graineR1, sortieR1 = etatSuivant(graineR1,coeffR1)\n",
    "        if sortieR1 == 1 :\n",
    "            graineR2, sortieR2 = etatSuivant(graineR2,coeffR2)\n",
    "        else:\n",
    "            sortieR2 = graineR2[0] \n",
    "        suite += str(sortieR2)\n",
    "    return suite\n",
    "\n",
    "\n",
    "print(\"10 premiers termes de la suite chiffrante : \", suite_gsa([1,0,1,0,1,1,0,0],[0, 3, 5],[1,0,1,0,1,0,1,0], [0, 2, 5, 6],10))\n",
    "\n",
    "try:\n",
    "    assert suite_gsa([1,0,1,0,1,1,0,0],[0, 3, 5],[1,0,1,0,1,0,1,0], [0, 2, 5, 6],10) == \"1001101111\"\n",
    "    print(\"suite_gsa : OK\")\n",
    "except:\n",
    "    print(\"suite_gsa : ERREUR\")"
   ]
  },
  {
   "cell_type": "markdown",
   "metadata": {},
   "source": [
    "En supposant que $R_1$ et $R_2$ produisent des séquences uniformément distribuées, la probabilité que deux bits consécutifs soient égaux dans un générateur à signal d'arrêt est de $\\frac{3}{4}$. \n",
    "\n",
    "__Démonstration__ : \n",
    "La formule des probabilités totales fournit :\n",
    "\n",
    "$\n",
    "\\begin{align}\n",
    "P\\big(R_2(t) = R_2(t-1)\\big) & = P\\big(R_2(t)=R_2(t-1)\\ |\\ R_1(t-1) = 0\\big) P\\big(R_1(t-1) = 0\\big) \n",
    "+ P\\big(R_2(t)=R_2(t-1)\\ |\\ R_1(t-1) = 1\\big) P\\big(R_1(t-1) = 1\\big) \\\\\n",
    "& = 1\\times \\frac{1}{2} + \\frac{1}{2} \\times \\frac{1}{2} \\\\\n",
    "& = \\frac{3}{4} \\\\\n",
    "\\end{align}\n",
    "$\n",
    "\n",
    "> __Question 11 (GSA - Probabilités)__ :\n",
    "> Un adversaire a intercepté le chiffré suivant :\n",
    "<br>\n",
    "<center>\n",
    "$c = 1110\\ 0000\\ 0110\\ 1100\\ 0110\\ 0001\\ 0010\\ 1011\\ 1000\\ 0000$\n",
    "</center>\n",
    "<br>\n",
    "Il sait  qu'il s'agit du chiffrement de l'un des trois textes suivants à l'aide d'un générateur à signal d'arrêt :\n",
    "<br>\n",
    "<center>\n",
    "$m_1 = 0110\\ 0011\\ 0110\\ 1000\\ 0110\\ 1001\\ 0110\\ 0101\\ 0110\\ 1110$ <br>\n",
    "$m_2 = 0110\\ 0011\\ 0110\\ 1000\\ 0110\\ 0001\\ 0111\\ 0100\\ 0111\\ 0011$ <br>\n",
    "$m_3 = 0110\\ 1111\\ 0111\\ 0010\\ 0111\\ 0001\\ 0111\\ 0101\\ 0110\\ 0101$ <br>\n",
    "</center>\n",
    "<br>\n",
    "Connaissant la probabilité que deux bits consécutifs soient égaux, donner le texte clair qui a été le plus probablement chiffré."
   ]
  },
  {
   "cell_type": "code",
   "execution_count": 37,
   "metadata": {},
   "outputs": [
    {
     "name": "stdout",
     "output_type": "stream",
     "text": [
      "Exemple de sortie : 0111110000000011111001111100000100111000"
     ]
    }
   ],
   "source": [
    "# Generation d'un exemple de clé avec probabilité n+1 = n à 75%\n",
    "# J'aurai pu simplement générer une clé avec suite_gsa...\n",
    "import random\n",
    "import math\n",
    "print(\"Exemple de sortie : \",end = \"\")\n",
    "value = 1\n",
    "for k in range(len(m_1)):\n",
    "    rand = random.randint(0,3)\n",
    "    if rand == 0 : \n",
    "        value = abs(value - 1)\n",
    "    print(value, end=\"\")"
   ]
  },
  {
   "cell_type": "code",
   "execution_count": 55,
   "metadata": {},
   "outputs": [
    {
     "name": "stdout",
     "output_type": "stream",
     "text": [
      "Message 1 : 0.6    chien\n",
      "Message 2 : 0.725  chats\n",
      "Message 3 : 0.575  orque\n"
     ]
    }
   ],
   "source": [
    "m_1 = \"0110001101101000011010010110010101101110\"\n",
    "m_2 = \"0110001101101000011000010111010001110011\"\n",
    "m_3 = \"0110111101110010011100010111010101100101\"\n",
    "\n",
    "𝑐 = \"1110000001101100011000010010101110000000\"\n",
    "\n",
    "key1 = chiffrementVernam(m_1,c)\n",
    "key2 = chiffrementVernam(m_2,c)\n",
    "key3 = chiffrementVernam(m_3,c)\n",
    "\n",
    "def freq(key):\n",
    "    cpt = 0\n",
    "    for index,char in enumerate(key) :\n",
    "        if index > 0 :\n",
    "            if key[index-1]== key[index] :\n",
    "                cpt += 1\n",
    "    return cpt/len(key1)\n",
    "\n",
    "print(\"Message 1 : \" + str(freq(key1)) + \"    \" + binaryToString(\"0110001101101000011010010110010101101110\"))\n",
    "print(\"Message 2 : \" + str(freq(key2)) + \"  \" + binaryToString(\"0110001101101000011000010111010001110011\"))\n",
    "print(\"Message 3 : \" + str(freq(key3)) + \"  \" + binaryToString(\"0110111101110010011100010111010101100101\"))"
   ]
  },
  {
   "cell_type": "markdown",
   "metadata": {},
   "source": [
    "> __Activité 2__ : Chiffrer un message à l'aide d'une clef générée par un générateur à signal d'arrêt et envoyez le message chiffré à votre voisin(e) (avec éventuellement d'autres informations pour qu'il/elle puisse le déchiffrer)."
   ]
  },
  {
   "cell_type": "code",
   "execution_count": 19,
   "metadata": {},
   "outputs": [
    {
     "name": "stdout",
     "output_type": "stream",
     "text": [
      "MiyazakiTheGoat\n"
     ]
    }
   ],
   "source": [
    "#infos données : \n",
    "graineR1 = [0,1,0,0,0,1,1,0]\n",
    "coeffR1 = [2,4,7,1]\n",
    "graineR2 = [1,0,1,1,0,1,1,1]\n",
    "coeffR2 = [4,5,7,6]\n",
    "n = 120\n",
    "key = suite_gsa(graineR1,coeffR1, graineR2, coeffR2, n)\n",
    "cypher = \"100011101111011010010110100111100100010110010010101101001111011000101011010101111000101010111011100100001110111010000011\"\n",
    "# chiffrement de vernam avec utilisation au préalable de la fonction suite_gsa\n",
    "print(binaryToString(chiffrementVernam(cypher,key)))"
   ]
  },
  {
   "cell_type": "markdown",
   "metadata": {},
   "source": [
    "## 4 - Générateur de Geffe\n",
    "\n",
    "Le générateur de Geffe est un autre exemple de registres combinés (1973). Il est composé de trois LFSR de longueurs distinctes combinés par la fonction :\n",
    "<br>\n",
    "<center>\n",
    "$F(x_1,x_2,x_3) = x_1x_2 \\oplus x_2x_3 \\oplus x_3$\n",
    "</center>\n",
    "<br>\n",
    "\n",
    "<img src=\"GenerateurGeffe_v2.png\" width=\"700\">\n",
    "\n",
    "> __Question 12 :__ Définir une fonction `suite_geffe(g1, g2, g3, coeff1, coeff2, coeff3, N)` permettant de simuler un tel générateur (composé de 3 LFSR). Les $g_i$ représentent les graines respectives des trois LFSR, les $coeff_i$ les indices des cases à \"xorer\" pour chaque générateur. Et $N$ est la longueur de la suite chiffrante. La fonction doit retourner la sortie du générateur de Geffe."
   ]
  },
  {
   "cell_type": "code",
   "execution_count": 64,
   "metadata": {},
   "outputs": [
    {
     "data": {
      "text/plain": [
       "'101111000001010100010001101110'"
      ]
     },
     "execution_count": 64,
     "metadata": {},
     "output_type": "execute_result"
    }
   ],
   "source": [
    "def suite_geffe(g1, g2, g3, coeff1, coeff2, coeff3, n) :\n",
    "    key = \"\"\n",
    "    while len(key) < n : \n",
    "        g1, bit1 = etatSuivant(g1,coeff1)\n",
    "        g2, bit2 = etatSuivant(g2,coeff2)\n",
    "        g3, bit3 = etatSuivant(g3,coeff3)\n",
    "        and1 = bit1 & bit2\n",
    "        and2 = bit2 & bit3\n",
    "        key += str(and1 ^ and2 ^ bit3)\n",
    "    return key"
   ]
  },
  {
   "cell_type": "code",
   "execution_count": 61,
   "metadata": {},
   "outputs": [
    {
     "name": "stdout",
     "output_type": "stream",
     "text": [
      "suite_geffe : OK\n"
     ]
    }
   ],
   "source": [
    "try:\n",
    "    #Coder l'exemple de l'illustration\n",
    "    coeff1 = [1,5,16]\n",
    "    coeff2 = [1,5]\n",
    "    coeff3 = [0,3,9]\n",
    "    g1 = [1, 0, 0, 0, 1, 1, 0, 0, 0, 0, 1, 0, 0, 0, 0, 1, 0, 0, 0]\n",
    "    g2 = [1, 1, 0, 0, 0, 0, 1, 1, 0, 0, 0, 0, 1, 0, 1, 0, 1, 1, 1, 0, 1, 1]\n",
    "    g3 = [0, 0, 1, 1, 1, 1, 0, 0, 0, 0, 0, 1, 0, 1, 0, 1, 1]\n",
    "    N = 10\n",
    "    assert suite_geffe(g1, g2, g3, coeff1, coeff2, coeff3, N) == \"1011110000\"\n",
    "    print(\"suite_geffe : OK\")\n",
    "except:\n",
    "    print(\"suite_geffe : ERREUR\")"
   ]
  }
 ],
 "metadata": {
  "kernelspec": {
   "display_name": "Python 3 (ipykernel)",
   "language": "python",
   "name": "python3"
  },
  "language_info": {
   "codemirror_mode": {
    "name": "ipython",
    "version": 3
   },
   "file_extension": ".py",
   "mimetype": "text/x-python",
   "name": "python",
   "nbconvert_exporter": "python",
   "pygments_lexer": "ipython3",
   "version": "3.11.6"
  }
 },
 "nbformat": 4,
 "nbformat_minor": 4
}
