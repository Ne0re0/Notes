{
 "cells": [
  {
   "cell_type": "markdown",
   "metadata": {},
   "source": [
    "# <center>R4.B.10 - Cryptographie et sécurité <br> TP4 - Codes d'erreurs et correction <center>\n",
    "\n",
    "\n",
    "_Tom Ferragut_\n",
    "    \n",
    "_IUT de Vannes, BUT Informatique_"
   ]
  },
  {
   "cell_type": "code",
   "execution_count": 1,
   "metadata": {},
   "outputs": [],
   "source": [
    "import numpy\n",
    "import random"
   ]
  },
  {
   "cell_type": "markdown",
   "metadata": {},
   "source": [
    "##### Question 1. Implémenter un fonction prenant en entrée un message a et renvoyant le résultat après application du code de parité."
   ]
  },
  {
   "cell_type": "code",
   "execution_count": 12,
   "metadata": {},
   "outputs": [
    {
     "data": {
      "text/plain": [
       "'01011100'"
      ]
     },
     "execution_count": 12,
     "metadata": {},
     "output_type": "execute_result"
    }
   ],
   "source": [
    "def sendParity(message) : \n",
    "    \n",
    "    assert all([bit in [\"0\",\"1\"] for bit in message]), \"Le message ne peut contenir que des 0 et des 1\"\n",
    "    assert len(message) == 7, \"La longueur du message doit être de 7 bits\"\n",
    "    \n",
    "    clock = 0\n",
    "    for bit in message : \n",
    "        clock += int(bit)\n",
    "    message += str(clock%2)\n",
    "    \n",
    "    return message\n",
    "\n",
    "sendParity(\"0101110\")"
   ]
  },
  {
   "cell_type": "markdown",
   "metadata": {},
   "source": [
    "##### Question 2. Proposer et implémenter une fonction se basant sur le code de parité et étant plus performant pour la détection d’une multitude d’erreurs."
   ]
  },
  {
   "cell_type": "code",
   "execution_count": 63,
   "metadata": {},
   "outputs": [
    {
     "data": {
      "text/plain": [
       "'01011111'"
      ]
     },
     "execution_count": 63,
     "metadata": {},
     "output_type": "execute_result"
    }
   ],
   "source": [
    "# ['a','b','c','d','e',f=parity(a+b), g=parity(c+d), h=parity(a+b+c+d+e+f+g)]\n",
    "def sendParityV2(message) : \n",
    "    \n",
    "    assert all([bit in [\"0\",\"1\"] for bit in message]), \"Le message ne peut contenir que des 0 et des 1\"\n",
    "    assert len(message) == 5, \"La longueur du message doit être de 5 bits\"\n",
    "    \n",
    "    message += str((int(message[0]) + int(message[1]))%2)\n",
    "    message += str((int(message[2]) + int(message[3]))%2)\n",
    "    message += str((int(message,2)%2))\n",
    "    \n",
    "    return message\n",
    "\n",
    "sendParityV2(\"01011\")"
   ]
  },
  {
   "cell_type": "markdown",
   "metadata": {},
   "source": [
    "##### Question 3. Implémenter un fonction prenant en entrée un message a et un paramètre k et renvoyant le résultat après application du code de k répétitions."
   ]
  },
  {
   "cell_type": "code",
   "execution_count": 64,
   "metadata": {},
   "outputs": [
    {
     "data": {
      "text/plain": [
       "'010111010101110101011101'"
      ]
     },
     "execution_count": 64,
     "metadata": {},
     "output_type": "execute_result"
    }
   ],
   "source": [
    "def sendRedundance(message,k) : \n",
    "    \n",
    "    assert all([bit in [\"0\",\"1\"] for bit in message]), \"Le message ne peut contenir que des 0 et des 1\"\n",
    "    assert len(message) == 8, \"La longueur du message doit être de 8 bits\"\n",
    "    assert k > 1, \"Le nombre de répétition doit être >= 2\"\n",
    "    \n",
    "    \n",
    "    return  ''.join([message for i in range(k)])\n",
    "\n",
    "sendRedundance(\"01011101\",3)"
   ]
  },
  {
   "cell_type": "markdown",
   "metadata": {},
   "source": [
    "##### Question 4. Implémenter un fonction prenant en entrée un message a et renvoyant le résultat de après application du code de Hamming."
   ]
  },
  {
   "cell_type": "code",
   "execution_count": 40,
   "metadata": {},
   "outputs": [
    {
     "data": {
      "text/plain": [
       "'1010101'"
      ]
     },
     "execution_count": 40,
     "metadata": {},
     "output_type": "execute_result"
    }
   ],
   "source": [
    "def sendHammingEncodedMessage(message) : \n",
    "    \n",
    "    assert all([bit in [\"0\",\"1\"] for bit in message]), \"Le message ne peut contenir que des 0 et des 1\"\n",
    "    assert len(message) == 4, \"La longueur du message doit être de 4 bits\"\n",
    "    \n",
    "    lst = ['x' for k in range(7)]\n",
    "    lst[2] = message[0]\n",
    "    lst[4] = message[1]\n",
    "    lst[5] = message[2]\n",
    "    lst[6] = message[3]\n",
    "\n",
    "    lst[0] = str((int(message[0]) + int(message[1]) + int(message[3]))%2)\n",
    "    lst[1] = str((int(message[0]) + int(message[2]) + int(message[3]))%2)\n",
    "    lst[3] = str((int(message[1]) + int(message[2]) + int(message[3]))%2)\n",
    "    \n",
    "    return ''.join(lst)\n",
    "\n",
    "sendHammingEncodedMessage(\"1101\")"
   ]
  },
  {
   "cell_type": "code",
   "execution_count": 58,
   "metadata": {},
   "outputs": [
    {
     "name": "stdout",
     "output_type": "stream",
     "text": [
      "Erreur de transmission\n"
     ]
    },
    {
     "data": {
      "text/plain": [
       "'1100'"
      ]
     },
     "execution_count": 58,
     "metadata": {},
     "output_type": "execute_result"
    }
   ],
   "source": [
    "# s1 = v1 + v3 + v5 + v7, \n",
    "# s2 = v2 + v3 + v6 + v7\n",
    "# s3 = v4 + v5 + v6 + v7.\n",
    "def receiveHammingEncodedMessage(v) : \n",
    "    \n",
    "    assert all([bit in [\"0\",\"1\"] for bit in v]), \"Le message ne peut contenir que des 0 et des 1\"\n",
    "    assert len(v) == 7, \"La longueur du message doit être de 7 bits\"\n",
    "    \n",
    "    lst = ['x' for k in range(4)]\n",
    "\n",
    "    s1 = str((int(v[0]) + int(v[2]) + int(v[4]) + int(v[6])) % 2)\n",
    "    s2 = str((int(v[1]) + int(v[2]) + int(v[5]) + int(v[6])) % 2)\n",
    "    s3 = str((int(v[3]) + int(v[4]) + int(v[5]) + int(v[6])) % 2)\n",
    "    \n",
    "    s = int(s1 + s2 + s3,2)\n",
    "    \n",
    "    if (s != 0) : \n",
    "            print(\"Erreur de transmission\")\n",
    "\n",
    "    lst[0] = v[2]\n",
    "    lst[1] = v[4]\n",
    "    lst[2] = v[5]\n",
    "    lst[3] = v[6]\n",
    "    \n",
    "    return ''.join(lst)\n",
    "\n",
    "receiveHammingEncodedMessage(\"1111100\")"
   ]
  },
  {
   "cell_type": "markdown",
   "metadata": {},
   "source": [
    "# 2 Code correcteur d’erreur"
   ]
  },
  {
   "cell_type": "markdown",
   "metadata": {},
   "source": [
    "##### Question 5. Supposons que l’on reçoit un message v condition par un code à k répétition et qui a pu être altéré lors de l’envoie. Implémenter une fonction permettant de retrouver le message originel u."
   ]
  },
  {
   "cell_type": "code",
   "execution_count": 88,
   "metadata": {},
   "outputs": [
    {
     "data": {
      "text/plain": [
       "'1010'"
      ]
     },
     "execution_count": 88,
     "metadata": {},
     "output_type": "execute_result"
    }
   ],
   "source": [
    "def receiveRedundantMessage(message,messageLength=8) : \n",
    "    \n",
    "    assert messageLength >= 1, \"la longueur d'un message ne peut être inférieur à 1 bit\"\n",
    "    assert len(message) > messageLength * 2, \"Le message doit être répété au moins 3 fois\"\n",
    "    assert all([bit in [\"0\",\"1\"] for bit in message]), \"Le message ne peut contenir que des 0 et des 1\"\n",
    "    \n",
    "    decoded = \"\"\n",
    "    avgDivider = len(message)/messageLength\n",
    "    for k in range(messageLength) :\n",
    "        value = 0\n",
    "        for i in range(0,len(message),messageLength) :\n",
    "            value += int(message[i+k])\n",
    "        decoded += str(round(value/(len(message)/messageLength)))\n",
    "    return decoded\n",
    "\n",
    "receiveRedundantMessage(\"111110101010\",4)"
   ]
  },
  {
   "cell_type": "markdown",
   "metadata": {},
   "source": [
    "##### Question 6. Supposons que l’on reçoit un message v de 7 bits conditionné par un code de Hamming et qui a pu être altéré de 1 bit lors de l’envoie. Implémenter une fonction permettant de retrouver le message originel u."
   ]
  },
  {
   "cell_type": "code",
   "execution_count": null,
   "metadata": {},
   "outputs": [],
   "source": []
  },
  {
   "cell_type": "markdown",
   "metadata": {},
   "source": [
    "##### Question 7. Même question pour un message v de taille quelconque dans lequel au plus 1 bit est altéré tous les 7 bits."
   ]
  },
  {
   "cell_type": "code",
   "execution_count": null,
   "metadata": {},
   "outputs": [],
   "source": []
  },
  {
   "cell_type": "markdown",
   "metadata": {},
   "source": []
  },
  {
   "cell_type": "code",
   "execution_count": null,
   "metadata": {},
   "outputs": [],
   "source": []
  },
  {
   "cell_type": "markdown",
   "metadata": {},
   "source": []
  },
  {
   "cell_type": "code",
   "execution_count": 95,
   "metadata": {},
   "outputs": [],
   "source": []
  },
  {
   "cell_type": "markdown",
   "metadata": {},
   "source": []
  },
  {
   "cell_type": "markdown",
   "metadata": {},
   "source": []
  },
  {
   "cell_type": "code",
   "execution_count": 101,
   "metadata": {},
   "outputs": [],
   "source": []
  },
  {
   "cell_type": "markdown",
   "metadata": {},
   "source": []
  },
  {
   "cell_type": "code",
   "execution_count": null,
   "metadata": {},
   "outputs": [],
   "source": []
  },
  {
   "cell_type": "code",
   "execution_count": null,
   "metadata": {},
   "outputs": [],
   "source": []
  },
  {
   "cell_type": "code",
   "execution_count": null,
   "metadata": {},
   "outputs": [],
   "source": []
  }
 ],
 "metadata": {
  "kernelspec": {
   "display_name": "Python 3 (ipykernel)",
   "language": "python",
   "name": "python3"
  },
  "language_info": {
   "codemirror_mode": {
    "name": "ipython",
    "version": 3
   },
   "file_extension": ".py",
   "mimetype": "text/x-python",
   "name": "python",
   "nbconvert_exporter": "python",
   "pygments_lexer": "ipython3",
   "version": "3.11.7"
  }
 },
 "nbformat": 4,
 "nbformat_minor": 4
}
